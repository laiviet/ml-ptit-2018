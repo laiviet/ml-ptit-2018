{
 "cells": [
  {
   "cell_type": "code",
   "execution_count": 143,
   "metadata": {},
   "outputs": [],
   "source": [
    "import json\n",
    "from pprint import pprint\n",
    "from json import JSONDecoder, JSONDecodeError\n",
    "import re\n",
    "import pickle"
   ]
  },
  {
   "cell_type": "code",
   "execution_count": 144,
   "metadata": {},
   "outputs": [],
   "source": [
    "def write(ori,com,_bin,name,first,last):\n",
    "    temp = name+\".ori\"\n",
    "    with open(temp,'w') as f:\n",
    "        for i in range(first,last):\n",
    "            f.write(ori[i])\n",
    "            f.write(\"\\n\")\n",
    "    temp=name+\".com\"\n",
    "    with open(temp,'w') as f:\n",
    "        for i in range(first,last):\n",
    "            f.write(com[i])\n",
    "            f.write(\"\\n\")\n",
    "    temp = name+\".bin\"\n",
    "    with open(temp,'w') as f:\n",
    "        for i in range(first,last):\n",
    "            for j in _bin[i]:\n",
    "                f.write(str(j))\n",
    "            f.write(\"\\n\")\n",
    "    "
   ]
  },
  {
   "cell_type": "code",
   "execution_count": 145,
   "metadata": {},
   "outputs": [],
   "source": [
    "NOT_WHITESPACE = re.compile(r'[^\\s]')\n",
    "\n",
    "def decode_stacked(document, pos=0, decoder=JSONDecoder()):\n",
    "    while True:\n",
    "        match = NOT_WHITESPACE.search(document, pos)\n",
    "        if not match:\n",
    "            return\n",
    "        pos = match.start()\n",
    "\n",
    "        try:\n",
    "            obj, pos = decoder.raw_decode(document, pos)\n",
    "        except JSONDecodeError:\n",
    "            # do something sensible if there's some error\n",
    "            raise\n",
    "        yield obj"
   ]
  },
  {
   "cell_type": "code",
   "execution_count": 146,
   "metadata": {},
   "outputs": [],
   "source": [
    "with open(\"compression_data.json\",\"r\") as f:\n",
    "    data = f.read()"
   ]
  },
  {
   "cell_type": "code",
   "execution_count": 147,
   "metadata": {},
   "outputs": [],
   "source": [
    "ori_sentence = []\n",
    "com_sentence = []\n",
    "bin_sentence = []\n",
    "count = 0\n",
    "train_size = 0\n",
    "valid_size = 0\n",
    "test_size = 0\n",
    "for obj in decode_stacked(data):\n",
    "    count+=1\n",
    "    index_Start = obj['source_tree']['node'][1]['word'][0]['id']\n",
    "    index_End = obj['source_tree']['node'][-1]['word'][0]['id']\n",
    "    if index_End-index_Start+1 >= 50:\n",
    "        continue\n",
    "    sentence = obj['graph']['sentence']\n",
    "    if sentence[-1] != '.':\n",
    "        sentence+='.'\n",
    "    ori_sentence.append(sentence)\n",
    "    sentence = obj['compression_untransformed']['text']\n",
    "    if sentence[-1] != '.':\n",
    "        sentence+='.'\n",
    "    com_sentence.append(sentence)\n",
    "    temp = [ 0  for i in range(index_End-index_Start+1)]\n",
    "    for i in obj['compression_untransformed']['edge']:\n",
    "        temp[i['child_id']-index_Start]=1\n",
    "    bin_sentence.append(temp)\n",
    "    if count == 8000:\n",
    "        train_size = len(ori_sentence)\n",
    "    elif count == 9000:\n",
    "        valid_size = len(ori_sentence)\n",
    "    elif count == 10000:\n",
    "        test_size = len(ori_sentence)\n",
    "write(ori_sentence,com_sentence,bin_sentence,\"train\",0,train_size)\n",
    "write(ori_sentence,com_sentence,bin_sentence,\"valid\",train_size,valid_size)\n",
    "write(ori_sentence,com_sentence,bin_sentence,\"test\",valid_size,test_size)\n",
    "\n",
    "    "
   ]
  },
  {
   "cell_type": "code",
   "execution_count": null,
   "metadata": {},
   "outputs": [],
   "source": []
  },
  {
   "cell_type": "code",
   "execution_count": null,
   "metadata": {},
   "outputs": [],
   "source": []
  }
 ],
 "metadata": {
  "kernelspec": {
   "display_name": "Python 3",
   "language": "python",
   "name": "python3"
  },
  "language_info": {
   "codemirror_mode": {
    "name": "ipython",
    "version": 3
   },
   "file_extension": ".py",
   "mimetype": "text/x-python",
   "name": "python",
   "nbconvert_exporter": "python",
   "pygments_lexer": "ipython3",
   "version": "3.6.5"
  }
 },
 "nbformat": 4,
 "nbformat_minor": 2
}
