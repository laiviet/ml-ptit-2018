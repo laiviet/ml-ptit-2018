{
 "cells": [
  {
   "cell_type": "code",
   "execution_count": 219,
   "metadata": {},
   "outputs": [],
   "source": [
    "import numpy as np\n",
    "from sklearn.metrics import accuracy_score, f1_score,confusion_matrix\n",
    "from sklearn.preprocessing import MinMaxScaler"
   ]
  },
  {
   "cell_type": "code",
   "execution_count": 220,
   "metadata": {},
   "outputs": [],
   "source": [
    "def sigmoid(x):\n",
    "  return 1 / (1 + np.exp(-x))"
   ]
  },
  {
   "cell_type": "code",
   "execution_count": 221,
   "metadata": {},
   "outputs": [],
   "source": [
    "def softmax(x):\n",
    "    x = x + 1e-5\n",
    "    e_x = np.exp(x - np.max(x))\n",
    "    return e_x / e_x.sum(axis=0)"
   ]
  },
  {
   "cell_type": "code",
   "execution_count": 222,
   "metadata": {},
   "outputs": [],
   "source": [
    "def cross_entropy(y_hat, y):\n",
    "    \"\"\"\n",
    "    y_hat: probability matrix, shape (N,C)\n",
    "    y : list of labels, shape (N)\n",
    "    \"\"\"\n",
    "    n  = y_hat.shape[0]\n",
    "    pick = y_hat[range(n),y.squeeze()]\n",
    "    # print(pick)\n",
    "    log_likelihood = - np.log(pick)\n",
    "    loss = np.sum(log_likelihood)\n",
    "    return loss / n"
   ]
  },
  {
   "cell_type": "code",
   "execution_count": 223,
   "metadata": {},
   "outputs": [],
   "source": [
    "def delta_ce(y_hat, y):\n",
    "    #print(y_hat.shape)\n",
    "    #print(y.shape)\n",
    "    n = y.shape[0]\n",
    "    y_hat[range(n),y] -= 1\n",
    "    grad = y_hat / n\n",
    "    return grad"
   ]
  },
  {
   "cell_type": "code",
   "execution_count": 224,
   "metadata": {},
   "outputs": [],
   "source": [
    "path = '../corpus/breast-cancer-wisconsin.data'\n",
    "with open(path, 'r') as f:\n",
    "    lines = f.readlines()\n",
    "# lines = lines[:2]\n",
    "lines=[l.strip().replace('?','5').split(',') for l in lines]\n",
    "lines = np.array(lines)\n",
    "ids = lines[:,0].astype(np.int)\n",
    "x = lines[:,1:-1].astype(np.float)\n",
    "\n",
    "labels = lines[:,-1].astype(np.int)\n",
    "labels = labels/2-1\n",
    "y = labels.astype(np.float)\n",
    "y = y/2-1\n"
   ]
  },
  {
   "cell_type": "code",
   "execution_count": 233,
   "metadata": {
    "scrolled": true
   },
   "outputs": [
    {
     "name": "stdout",
     "output_type": "stream",
     "text": [
      "(699, 9)\n"
     ]
    }
   ],
   "source": [
    "scaler = MinMaxScaler()\n",
    "scaler.fit(x)\n",
    "x = scaler.transform(x)\n",
    "print(x.shape)\n"
   ]
  },
  {
   "cell_type": "code",
   "execution_count": 234,
   "metadata": {},
   "outputs": [],
   "source": [
    "epoch = 12000\n",
    "lr = 0.0003\n",
    "\n",
    "b,d = x.shape\n",
    "\n",
    "y = np.reshape(y, (b,1))\n",
    "\n",
    "h = 100\n",
    "c = 2\n",
    "\n",
    "mu, sigma = 0,0.04\n"
   ]
  },
  {
   "cell_type": "code",
   "execution_count": 235,
   "metadata": {},
   "outputs": [],
   "source": [
    "np.random.seed(4444)\n",
    "W1 = np.random.random( (d,h)) -1\n",
    "W2 = np.random.random( (h,c)) -1\n",
    "\n",
    "#print(W1.shape)\n",
    "#print(W2.shape)"
   ]
  },
  {
   "cell_type": "code",
   "execution_count": 236,
   "metadata": {},
   "outputs": [
    {
     "name": "stdout",
     "output_type": "stream",
     "text": [
      "Epoch 0: loss=18.150964 > acc=0.2732 > f0=0.4227\n",
      "(699, 2)\n",
      "Epoch 100: loss=17.945383 > acc=0.7053 > f0=0.6084\n",
      "Epoch 200: loss=17.740060 > acc=0.8126 > f0=0.6450\n",
      "Epoch 300: loss=17.534996 > acc=0.7682 > f0=0.4969\n",
      "Epoch 400: loss=17.330194 > acc=0.7439 > f0=0.4092\n",
      "Epoch 500: loss=17.125657 > acc=0.7225 > f0=0.3264\n",
      "Epoch 600: loss=16.921388 > acc=0.7124 > f0=0.2847\n",
      "Epoch 700: loss=16.717389 > acc=0.7067 > f0=0.2599\n",
      "Epoch 800: loss=16.513664 > acc=0.7053 > f0=0.2536\n",
      "Epoch 900: loss=16.310214 > acc=0.7053 > f0=0.2536\n",
      "Epoch 1000: loss=16.107045 > acc=0.7053 > f0=0.2536\n",
      "Epoch 1100: loss=15.904159 > acc=0.7053 > f0=0.2536\n",
      "Epoch 1200: loss=15.701560 > acc=0.7053 > f0=0.2536\n",
      "Epoch 1300: loss=15.499251 > acc=0.7067 > f0=0.2599\n",
      "Epoch 1400: loss=15.297237 > acc=0.7067 > f0=0.2599\n",
      "Epoch 1500: loss=15.095522 > acc=0.7067 > f0=0.2599\n",
      "Epoch 1600: loss=14.894109 > acc=0.7067 > f0=0.2599\n",
      "Epoch 1700: loss=14.693005 > acc=0.7082 > f0=0.2662\n",
      "Epoch 1800: loss=14.492213 > acc=0.7082 > f0=0.2662\n",
      "Epoch 1900: loss=14.291740 > acc=0.7096 > f0=0.2724\n",
      "Epoch 2000: loss=14.091589 > acc=0.7096 > f0=0.2724\n",
      "Epoch 2100: loss=13.891768 > acc=0.7096 > f0=0.2724\n",
      "Epoch 2200: loss=13.692283 > acc=0.7096 > f0=0.2724\n",
      "Epoch 2300: loss=13.493140 > acc=0.7096 > f0=0.2724\n",
      "Epoch 2400: loss=13.294346 > acc=0.7096 > f0=0.2724\n",
      "Epoch 2500: loss=13.095910 > acc=0.7096 > f0=0.2724\n",
      "Epoch 2600: loss=12.897838 > acc=0.7096 > f0=0.2724\n",
      "Epoch 2700: loss=12.700141 > acc=0.7096 > f0=0.2724\n",
      "Epoch 2800: loss=12.502828 > acc=0.7110 > f0=0.2786\n",
      "Epoch 2900: loss=12.305910 > acc=0.7110 > f0=0.2786\n",
      "Epoch 3000: loss=12.109398 > acc=0.7139 > f0=0.2908\n",
      "Epoch 3100: loss=11.913306 > acc=0.7139 > f0=0.2908\n",
      "Epoch 3200: loss=11.717648 > acc=0.7139 > f0=0.2908\n",
      "Epoch 3300: loss=11.522440 > acc=0.7139 > f0=0.2908\n",
      "Epoch 3400: loss=11.327702 > acc=0.7139 > f0=0.2908\n",
      "Epoch 3500: loss=11.133454 > acc=0.7153 > f0=0.2968\n",
      "Epoch 3600: loss=10.939722 > acc=0.7153 > f0=0.2968\n",
      "Epoch 3700: loss=10.746536 > acc=0.7182 > f0=0.3088\n",
      "Epoch 3800: loss=10.553930 > acc=0.7225 > f0=0.3264\n",
      "Epoch 3900: loss=10.361946 > acc=0.7239 > f0=0.3322\n",
      "Epoch 4000: loss=10.170635 > acc=0.7268 > f0=0.3436\n",
      "Epoch 4100: loss=9.980060 > acc=0.7282 > f0=0.3493\n",
      "Epoch 4200: loss=9.790297 > acc=0.7296 > f0=0.3549\n",
      "Epoch 4300: loss=9.601441 > acc=0.7310 > f0=0.3605\n",
      "Epoch 4400: loss=9.413611 > acc=0.7353 > f0=0.3771\n",
      "Epoch 4500: loss=9.226955 > acc=0.7382 > f0=0.3880\n",
      "Epoch 4600: loss=9.041662 > acc=0.7425 > f0=0.4040\n",
      "Epoch 4700: loss=8.857965 > acc=0.7439 > f0=0.4092\n",
      "Epoch 4800: loss=8.676160 > acc=0.7439 > f0=0.4092\n",
      "Epoch 4900: loss=8.496618 > acc=0.7482 > f0=0.4248\n",
      "Epoch 5000: loss=8.319799 > acc=0.7511 > f0=0.4351\n",
      "Epoch 5100: loss=8.146270 > acc=0.7539 > f0=0.4452\n",
      "Epoch 5200: loss=7.976723 > acc=0.7611 > f0=0.4698\n",
      "Epoch 5300: loss=7.811984 > acc=0.7682 > f0=0.4938\n",
      "Epoch 5400: loss=7.653019 > acc=0.7740 > f0=0.5123\n",
      "Epoch 5500: loss=7.500921 > acc=0.7811 > f0=0.5350\n",
      "Epoch 5600: loss=7.356876 > acc=0.7854 > f0=0.5482\n",
      "Epoch 5700: loss=7.222110 > acc=0.7940 > f0=0.5740\n",
      "Epoch 5800: loss=7.097796 > acc=0.8026 > f0=0.5988\n",
      "Epoch 5900: loss=6.984950 > acc=0.8140 > f0=0.6307\n",
      "Epoch 6000: loss=6.884318 > acc=0.8240 > f0=0.6574\n",
      "Epoch 6100: loss=6.796285 > acc=0.8298 > f0=0.6740\n",
      "Epoch 6200: loss=6.720822 > acc=0.8340 > f0=0.6848\n",
      "Epoch 6300: loss=6.657489 > acc=0.8455 > f0=0.7128\n",
      "Epoch 6400: loss=6.605496 > acc=0.8555 > f0=0.7363\n",
      "Epoch 6500: loss=6.563798 > acc=0.8641 > f0=0.7558\n",
      "Epoch 6600: loss=6.531210 > acc=0.8727 > f0=0.7758\n",
      "Epoch 6700: loss=6.506509 > acc=0.8798 > f0=0.7921\n",
      "Epoch 6800: loss=6.488518 > acc=0.8898 > f0=0.8136\n",
      "Epoch 6900: loss=6.476161 > acc=0.8984 > f0=0.8305\n",
      "Epoch 7000: loss=6.468494 > acc=0.9041 > f0=0.8416\n",
      "Epoch 7100: loss=6.464709 > acc=0.9156 > f0=0.8631\n",
      "Epoch 7200: loss=6.464133 > acc=0.9270 > f0=0.8838\n",
      "Epoch 7300: loss=6.466214 > acc=0.9342 > f0=0.8964\n",
      "Epoch 7400: loss=6.470507 > acc=0.9371 > f0=0.9018\n",
      "Epoch 7500: loss=6.476652 > acc=0.9356 > f0=0.9007\n",
      "Epoch 7600: loss=6.484363 > acc=0.9371 > f0=0.9031\n",
      "Epoch 7700: loss=6.493415 > acc=0.9399 > f0=0.9079\n",
      "Epoch 7800: loss=6.503624 > acc=0.9413 > f0=0.9103\n",
      "Epoch 7900: loss=6.514849 > acc=0.9442 > f0=0.9154\n",
      "Epoch 8000: loss=6.526973 > acc=0.9456 > f0=0.9177\n",
      "Epoch 8100: loss=6.539906 > acc=0.9485 > f0=0.9224\n",
      "Epoch 8200: loss=6.553572 > acc=0.9542 > f0=0.9316\n",
      "Epoch 8300: loss=6.567913 > acc=0.9557 > f0=0.9339\n",
      "Epoch 8400: loss=6.582877 > acc=0.9542 > f0=0.9322\n",
      "Epoch 8500: loss=6.598425 > acc=0.9585 > f0=0.9389\n",
      "Epoch 8600: loss=6.614522 > acc=0.9614 > f0=0.9434\n",
      "Epoch 8700: loss=6.631139 > acc=0.9628 > f0=0.9456\n",
      "Epoch 8800: loss=6.648250 > acc=0.9657 > f0=0.9500\n",
      "Epoch 8900: loss=6.665834 > acc=0.9642 > f0=0.9482\n",
      "Epoch 9000: loss=6.683872 > acc=0.9657 > f0=0.9504\n",
      "Epoch 9100: loss=6.702346 > acc=0.9685 > f0=0.9547\n",
      "Epoch 9200: loss=6.721240 > acc=0.9685 > f0=0.9547\n",
      "Epoch 9300: loss=6.740541 > acc=0.9700 > f0=0.9569\n",
      "Epoch 9400: loss=6.760235 > acc=0.9700 > f0=0.9569\n",
      "Epoch 9500: loss=6.780310 > acc=0.9700 > f0=0.9569\n",
      "Epoch 9600: loss=6.800754 > acc=0.9685 > f0=0.9549\n",
      "Epoch 9700: loss=6.821557 > acc=0.9685 > f0=0.9549\n",
      "Epoch 9800: loss=6.842708 > acc=0.9685 > f0=0.9549\n",
      "Epoch 9900: loss=6.864197 > acc=0.9685 > f0=0.9549\n",
      "Epoch 10000: loss=6.886015 > acc=0.9685 > f0=0.9549\n",
      "Epoch 10100: loss=6.908153 > acc=0.9671 > f0=0.9530\n",
      "Epoch 10200: loss=6.930602 > acc=0.9671 > f0=0.9530\n",
      "Epoch 10300: loss=6.953353 > acc=0.9685 > f0=0.9551\n",
      "Epoch 10400: loss=6.976398 > acc=0.9671 > f0=0.9532\n",
      "Epoch 10500: loss=6.999730 > acc=0.9671 > f0=0.9532\n",
      "Epoch 10600: loss=7.023339 > acc=0.9671 > f0=0.9533\n",
      "Epoch 10700: loss=7.047220 > acc=0.9685 > f0=0.9555\n",
      "Epoch 10800: loss=7.071364 > acc=0.9700 > f0=0.9576\n",
      "Epoch 10900: loss=7.095764 > acc=0.9714 > f0=0.9597\n",
      "Epoch 11000: loss=7.120414 > acc=0.9728 > f0=0.9618\n",
      "Epoch 11100: loss=7.145305 > acc=0.9728 > f0=0.9618\n",
      "Epoch 11200: loss=7.170433 > acc=0.9728 > f0=0.9618\n",
      "Epoch 11300: loss=7.195789 > acc=0.9728 > f0=0.9618\n",
      "Epoch 11400: loss=7.221368 > acc=0.9728 > f0=0.9618\n",
      "Epoch 11500: loss=7.247163 > acc=0.9714 > f0=0.9598\n",
      "Epoch 11600: loss=7.273169 > acc=0.9714 > f0=0.9598\n",
      "Epoch 11700: loss=7.299378 > acc=0.9714 > f0=0.9598\n",
      "Epoch 11800: loss=7.325786 > acc=0.9714 > f0=0.9598\n",
      "Epoch 11900: loss=7.352387 > acc=0.9714 > f0=0.9598\n"
     ]
    }
   ],
   "source": [
    "for e in range(epoch):\n",
    "    # Forward path\n",
    "    z1 = np.dot(x, W1) \n",
    "    l1 = sigmoid(z1)\n",
    "    z2 = np.dot(l1, W2)\n",
    "    y_hat = softmax(z2)\n",
    "    # Back-propagation\n",
    "    \n",
    "    if e % 100 ==0:\n",
    "        #print(y_hat)\n",
    "        loss = cross_entropy(y_hat, labels)\n",
    "        y_pred = np.argmax(y_hat, axis=1)\n",
    "        acc = accuracy_score(labels, y_pred)\n",
    "        f = f1_score(labels, y_pred)\n",
    "        print('Epoch %d: loss=%f > acc=%0.4f > f0=%0.4f'%(e, loss, acc, f))\n",
    "        #print(confusion_matrix(labels, y_pred))\n",
    "        \n",
    "    \n",
    "    e_z2 = delta_ce(y_hat, labels)\n",
    "    \n",
    "    if e == 2:\n",
    "        print(e_z2.shape)\n",
    "    \n",
    "    delta_W2 = np.dot(l1.T, e_z2)\n",
    "    \n",
    "    e_l1 = np.dot(e_z2, W2.T)\n",
    "    \n",
    "    e_z1 = e_l1 * l1 * (1-l1)\n",
    "    \n",
    "    delta_W1 = np.dot(x.T, e_z1)\n",
    "    \n",
    "    W1 = W1 - lr * delta_W1\n",
    "    W2 = W2 - lr * delta_W2\n"
   ]
  },
  {
   "cell_type": "code",
   "execution_count": null,
   "metadata": {},
   "outputs": [],
   "source": []
  },
  {
   "cell_type": "code",
   "execution_count": null,
   "metadata": {},
   "outputs": [],
   "source": []
  },
  {
   "cell_type": "code",
   "execution_count": null,
   "metadata": {},
   "outputs": [],
   "source": []
  },
  {
   "cell_type": "code",
   "execution_count": null,
   "metadata": {},
   "outputs": [],
   "source": []
  },
  {
   "cell_type": "code",
   "execution_count": null,
   "metadata": {},
   "outputs": [],
   "source": []
  },
  {
   "cell_type": "code",
   "execution_count": null,
   "metadata": {},
   "outputs": [],
   "source": []
  }
 ],
 "metadata": {
  "kernelspec": {
   "display_name": "Python 3",
   "language": "python",
   "name": "python3"
  },
  "language_info": {
   "codemirror_mode": {
    "name": "ipython",
    "version": 3
   },
   "file_extension": ".py",
   "mimetype": "text/x-python",
   "name": "python",
   "nbconvert_exporter": "python",
   "pygments_lexer": "ipython3",
   "version": "3.6.6"
  }
 },
 "nbformat": 4,
 "nbformat_minor": 2
}
