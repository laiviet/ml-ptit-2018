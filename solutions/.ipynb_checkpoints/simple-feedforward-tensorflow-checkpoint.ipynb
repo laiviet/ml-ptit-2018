{
 "cells": [
  {
   "cell_type": "code",
   "execution_count": 1,
   "metadata": {},
   "outputs": [],
   "source": [
    "import numpy as np\n",
    "from sklearn.metrics import accuracy_score, f1_score,confusion_matrix, precision_recall_fscore_support \n",
    "from sklearn.preprocessing import MinMaxScaler\n",
    "import tensorflow as tf"
   ]
  },
  {
   "cell_type": "code",
   "execution_count": 2,
   "metadata": {},
   "outputs": [
    {
     "name": "stdout",
     "output_type": "stream",
     "text": [
      "[[1. 0.]\n",
      " [1. 0.]\n",
      " [1. 0.]\n",
      " ...\n",
      " [0. 1.]\n",
      " [0. 1.]\n",
      " [0. 1.]]\n"
     ]
    }
   ],
   "source": [
    "path = '../corpus/breast-cancer-wisconsin.data'\n",
    "with open(path, 'r') as f:\n",
    "    lines = f.readlines()\n",
    "# lines = lines[:2]\n",
    "lines=[l.strip().replace('?','5').split(',') for l in lines]\n",
    "lines = np.array(lines)\n",
    "ids = lines[:,0].astype(np.int)\n",
    "x = lines[:,1:-1].astype(np.float)\n",
    "\n",
    "labels = lines[:,-1].astype(np.int)\n",
    "labels = labels/2-1\n",
    "\n",
    "n,d = x.shape\n",
    "\n",
    "\n",
    "y  = np.zeros((n,2))\n",
    "y[np.arange(n), labels] = 1\n",
    "print(y)"
   ]
  },
  {
   "cell_type": "code",
   "execution_count": 3,
   "metadata": {},
   "outputs": [],
   "source": [
    "scaler = MinMaxScaler()\n",
    "scaler.fit(x)\n",
    "x = scaler.transform(x)"
   ]
  },
  {
   "cell_type": "code",
   "execution_count": 16,
   "metadata": {},
   "outputs": [],
   "source": [
    "epoch = 12000\n",
    "h = 100\n",
    "lr = 0.01\n",
    "b = 50"
   ]
  },
  {
   "cell_type": "code",
   "execution_count": 5,
   "metadata": {},
   "outputs": [],
   "source": [
    "x_pl = tf.placeholder(tf.float32, shape=[None, d])\n",
    "y_pl = tf.placeholder(tf.int32, shape=[None,2])"
   ]
  },
  {
   "cell_type": "code",
   "execution_count": 6,
   "metadata": {},
   "outputs": [],
   "source": [
    "w1 = tf.get_variable('w1',shape=[d, h],dtype=tf.float32)\n",
    "w2 = tf.get_variable('w2',shape=[h, 2],dtype=tf.float32)"
   ]
  },
  {
   "cell_type": "code",
   "execution_count": 11,
   "metadata": {},
   "outputs": [],
   "source": [
    "l1 = tf.sigmoid(tf.matmul(x_pl, w1))\n",
    "l2 = tf.sigmoid(tf.matmul(l1, w2))\n",
    "\n",
    "loss = tf.reduce_sum(tf.nn.softmax_cross_entropy_with_logits(labels=y_pl, logits=l2))\n",
    "optimizer = tf.train.GradientDescentOptimizer(learning_rate=lr)\n",
    "train_op = optimizer.minimize(loss)"
   ]
  },
  {
   "cell_type": "code",
   "execution_count": 14,
   "metadata": {},
   "outputs": [],
   "source": [
    "sess = tf.Session()\n",
    "init = tf.global_variables_initializer()\n",
    "sess.run(init)"
   ]
  },
  {
   "cell_type": "code",
   "execution_count": 18,
   "metadata": {},
   "outputs": [
    {
     "name": "stdout",
     "output_type": "stream",
     "text": [
      "Epoch 0: 459.970520 > 0.791703 > 0.000000\n",
      "[[458   0]\n",
      " [241   0]]\n",
      "Epoch 1000: 459.970520 > 0.791703 > 0.000000\n",
      "[[458   0]\n",
      " [241   0]]\n",
      "Epoch 2000: 459.970520 > 0.791703 > 0.000000\n",
      "[[458   0]\n",
      " [241   0]]\n",
      "Epoch 3000: 459.970520 > 0.791703 > 0.000000\n",
      "[[458   0]\n",
      " [241   0]]\n",
      "Epoch 4000: 459.970520 > 0.791703 > 0.000000\n",
      "[[458   0]\n",
      " [241   0]]\n",
      "Epoch 5000: 459.970520 > 0.791703 > 0.000000\n",
      "[[458   0]\n",
      " [241   0]]\n",
      "Epoch 6000: 459.970520 > 0.791703 > 0.000000\n",
      "[[458   0]\n",
      " [241   0]]\n",
      "Epoch 7000: 459.970520 > 0.791703 > 0.000000\n",
      "[[458   0]\n",
      " [241   0]]\n",
      "Epoch 8000: 459.970520 > 0.791703 > 0.000000\n",
      "[[458   0]\n",
      " [241   0]]\n",
      "Epoch 9000: 459.970520 > 0.791703 > 0.000000\n",
      "[[458   0]\n",
      " [241   0]]\n",
      "Epoch 10000: 459.970520 > 0.791703 > 0.000000\n",
      "[[458   0]\n",
      " [241   0]]\n",
      "Epoch 11000: 459.970520 > 0.791703 > 0.000000\n",
      "[[458   0]\n",
      " [241   0]]\n",
      "DONE\n"
     ]
    }
   ],
   "source": [
    "log =[]\n",
    "\n",
    "for e in range(epoch):\n",
    "    feeddict = {x_pl: x, y_pl: y}\n",
    "    l, y_hat,_ = sess.run(feed_dict=feeddict, fetches=[loss, l2, train_op])\n",
    "    if e % 1000 == 0:\n",
    "        y_pred = np.argmax(y_hat,axis=1)\n",
    "        \n",
    "        acc = accuracy_score(labels, y_pred)\n",
    "        p,r,f,_ = precision_recall_fscore_support(labels, y_pred)\n",
    "        #cm = confusion_matrix(y, y_pred)\n",
    "        log.append((e, l, f[0],f[1]))\n",
    "        print('Epoch %d: %f > %f > %f'%(e, l, f[0],f[1]))\n",
    "        print(confusion_matrix(labels, y_pred))\n",
    "print('DONE')"
   ]
  },
  {
   "cell_type": "code",
   "execution_count": 10,
   "metadata": {},
   "outputs": [
    {
     "data": {
      "text/plain": [
       "<Figure size 640x480 with 1 Axes>"
      ]
     },
     "metadata": {},
     "output_type": "display_data"
    }
   ],
   "source": [
    "from matplotlib import pyplot as plt\n",
    "epochs, losses, f0, f1 = zip(*log)\n",
    "figure = plt.plot(epochs, losses, 'r-',epochs,f0,'b-',epochs,f1,'g-')\n",
    "plt.show()"
   ]
  }
 ],
 "metadata": {
  "kernelspec": {
   "display_name": "Python 3",
   "language": "python",
   "name": "python3"
  },
  "language_info": {
   "codemirror_mode": {
    "name": "ipython",
    "version": 3
   },
   "file_extension": ".py",
   "mimetype": "text/x-python",
   "name": "python",
   "nbconvert_exporter": "python",
   "pygments_lexer": "ipython3",
   "version": "3.6.6"
  }
 },
 "nbformat": 4,
 "nbformat_minor": 1
}
