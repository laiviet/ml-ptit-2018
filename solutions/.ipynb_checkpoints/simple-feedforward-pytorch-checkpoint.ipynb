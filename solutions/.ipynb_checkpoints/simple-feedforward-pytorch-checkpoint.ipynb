{
 "cells": [
  {
   "cell_type": "code",
   "execution_count": 27,
   "metadata": {},
   "outputs": [],
   "source": [
    "import numpy as np\n",
    "from sklearn.metrics import accuracy_score, f1_score,confusion_matrix, precision_recall_fscore_support \n",
    "from sklearn.preprocessing import MinMaxScaler\n",
    "import torch \n",
    "import torch.nn as nn\n",
    "import torch.optim as optim\n",
    "from torch.autograd import Variable"
   ]
  },
  {
   "cell_type": "code",
   "execution_count": 28,
   "metadata": {},
   "outputs": [],
   "source": [
    "path = '../corpus/breast-cancer-wisconsin.data'\n",
    "with open(path, 'r') as f:\n",
    "    lines = f.readlines()\n",
    "# lines = lines[:2]\n",
    "lines=[l.strip().replace('?','5').split(',') for l in lines]\n",
    "lines = np.array(lines)\n",
    "ids = lines[:,0].astype(np.int)\n",
    "x = lines[:,1:-1].astype(np.float)\n",
    "\n",
    "y = lines[:,-1].astype(np.int)\n",
    "y = y/2-1"
   ]
  },
  {
   "cell_type": "code",
   "execution_count": 29,
   "metadata": {},
   "outputs": [],
   "source": [
    "scaler = MinMaxScaler()\n",
    "scaler.fit(x)\n",
    "x = scaler.transform(x)"
   ]
  },
  {
   "cell_type": "code",
   "execution_count": 30,
   "metadata": {},
   "outputs": [],
   "source": [
    "epoch = 12000\n",
    "h = 100\n",
    "lr = 0.01"
   ]
  },
  {
   "cell_type": "code",
   "execution_count": 31,
   "metadata": {},
   "outputs": [],
   "source": [
    "model = nn.Sequential(\n",
    "    nn.Linear(9,h),\n",
    "    nn.Sigmoid(),\n",
    "    nn.Linear(h,h),\n",
    "    nn.Sigmoid(),\n",
    "    nn.Linear(h,2)\n",
    ")\n",
    "optimizer = torch.optim.SGD(model.parameters(), lr=lr)  \n",
    "weight = torch.FloatTensor(np.array([1,2]))\n",
    "criterion = nn.CrossEntropyLoss(weight=weight)"
   ]
  },
  {
   "cell_type": "code",
   "execution_count": 32,
   "metadata": {},
   "outputs": [
    {
     "name": "stderr",
     "output_type": "stream",
     "text": [
      "/Users/vietld/.miniconda3/envs/py27/lib/python2.7/site-packages/sklearn/metrics/classification.py:1135: UndefinedMetricWarning: Precision and F-score are ill-defined and being set to 0.0 in labels with no predicted samples.\n",
      "  'precision', 'predicted', average, warn_for)\n"
     ]
    },
    {
     "name": "stdout",
     "output_type": "stream",
     "text": [
      "Epoch 0: 0.809206\n",
      "Epoch 1000: 0.668053\n",
      "Epoch 2000: 0.597851\n",
      "Epoch 3000: 0.397333\n",
      "Epoch 4000: 0.199231\n",
      "Epoch 5000: 0.131401\n",
      "Epoch 6000: 0.109134\n",
      "Epoch 7000: 0.099923\n",
      "Epoch 8000: 0.095328\n",
      "Epoch 9000: 0.092682\n",
      "Epoch 10000: 0.090973\n",
      "Epoch 11000: 0.089761\n",
      "DONE\n"
     ]
    }
   ],
   "source": [
    "features = Variable(torch.from_numpy(x).type(torch.FloatTensor))\n",
    "target = Variable(torch.from_numpy(y))\n",
    "log =[]\n",
    "for e in range(epoch):\n",
    "    y_hat = model(features)\n",
    "    loss = criterion(y_hat, target)\n",
    "    optimizer.zero_grad()\n",
    "    loss.backward()\n",
    "    optimizer.step()\n",
    "    if e % 200 == 0:\n",
    "        _, y_pred = torch.max(y_hat, 1)\n",
    "        y_pred = y_pred.data.numpy()\n",
    "        \n",
    "        acc = accuracy_score(y, y_pred)\n",
    "        p,r,f,_ = precision_recall_fscore_support(y, y_pred)\n",
    "        #cm = confusion_matrix(y, y_pred)\n",
    "        log.append((e, loss.data[0], f[0],f[1]))\n",
    "    if e % 1000 == 0:\n",
    "        print('Epoch %d: %f'%(e, loss))\n",
    "print('DONE')"
   ]
  },
  {
   "cell_type": "code",
   "execution_count": 35,
   "metadata": {},
   "outputs": [
    {
     "data": {
      "image/png": "[encoded data removed]",
      "text/plain": [
       "<Figure size 432x288 with 1 Axes>"
      ]
     },
     "metadata": {},
     "output_type": "display_data"
    }
   ],
   "source": [
    "from matplotlib import pyplot as plt\n",
    "epochs, losses, f0, f1 = zip(*log)\n",
    "figure = plt.plot(epochs, losses, 'r-',epochs,f0,'b-',epochs,f1,'g-')\n",
    "plt.show()"
   ]
  },
  {
   "cell_type": "code",
   "execution_count": null,
   "metadata": {},
   "outputs": [],
   "source": []
  },
  {
   "cell_type": "code",
   "execution_count": null,
   "metadata": {},
   "outputs": [],
   "source": []
  },
  {
   "cell_type": "code",
   "execution_count": null,
   "metadata": {},
   "outputs": [],
   "source": []
  },
  {
   "cell_type": "code",
   "execution_count": null,
   "metadata": {},
   "outputs": [],
   "source": []
  },
  {
   "cell_type": "code",
   "execution_count": null,
   "metadata": {},
   "outputs": [],
   "source": []
  }
 ],
 "metadata": {
  "kernelspec": {
   "display_name": "Python 3",
   "language": "python",
   "name": "python3"
  },
  "language_info": {
   "codemirror_mode": {
    "name": "ipython",
    "version": 3
   },
   "file_extension": ".py",
   "mimetype": "text/x-python",
   "name": "python",
   "nbconvert_exporter": "python",
   "pygments_lexer": "ipython3",
   "version": "3.6.4"
  }
 },
 "nbformat": 4,
 "nbformat_minor": 1
}
