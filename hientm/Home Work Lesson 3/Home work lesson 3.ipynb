{
 "cells": [
  {
   "cell_type": "code",
   "execution_count": 60,
   "metadata": {},
   "outputs": [],
   "source": [
    "import pickle\n",
    "import numpy as np\n",
    "from sklearn.metrics import accuracy_score, f1_score, confusion_matrix, precision_recall_fscore_support\n",
    "from sklearn.preprocessing import MinMaxScaler\n",
    "import torch\n",
    "import torch.nn as nn\n",
    "import torch.optim as optim\n",
    "import torch.nn.functional as F\n",
    "from torch.autograd import Variable"
   ]
  },
  {
   "cell_type": "code",
   "execution_count": 61,
   "metadata": {},
   "outputs": [],
   "source": [
    "def unpickle(filepath):\n",
    "    with open(filepath, 'rb') as f:\n",
    "        result = pickle.load(f, encoding='bytes')\n",
    "    return result"
   ]
  },
  {
   "cell_type": "code",
   "execution_count": 62,
   "metadata": {},
   "outputs": [],
   "source": [
    "filepath = 'cifar-10-batches-py/data_batch_{}'\n",
    "temp1 = unpickle(filepath.format(1))\n",
    "train_data = np.copy(temp1[b'data'])\n",
    "train_label = np.copy(temp1[b'labels'])\n",
    "for i in range(1,6):\n",
    "    temp = unpickle(filepath.format(i))\n",
    "    train_data = np.vstack((train_data,temp[b'data']))\n",
    "    train_label = np.hstack((train_label, temp[b'labels']))"
   ]
  },
  {
   "cell_type": "code",
   "execution_count": 63,
   "metadata": {},
   "outputs": [],
   "source": [
    "test = unpickle('cifar-10-batches-py/test_batch')\n",
    "test_data = test[b'data']\n",
    "test_label = test[b'labels']"
   ]
  },
  {
   "cell_type": "code",
   "execution_count": 64,
   "metadata": {},
   "outputs": [],
   "source": [
    "epoch = 200\n",
    "lr = 0.01"
   ]
  },
  {
   "cell_type": "code",
   "execution_count": 65,
   "metadata": {},
   "outputs": [],
   "source": [
    "class Module(nn.Module):\n",
    "    def __init__(self):\n",
    "        super(Module, self).__init__()\n",
    "        self.l1 = nn.Linear(3072,200)\n",
    "        self.l2 = nn.Linear(200,100)\n",
    "        self.sigmoid = nn.Sigmoid()\n",
    "        self.l3 = nn.Linear(100,10)\n",
    "    def forward(self, x):\n",
    "        x = F.relu(self.l1(x))\n",
    "        x = F.relu(self.l2(x))\n",
    "        x = self.sigmoid(x)\n",
    "        x = self.l3(x)\n",
    "        return x"
   ]
  },
  {
   "cell_type": "code",
   "execution_count": 66,
   "metadata": {},
   "outputs": [],
   "source": [
    "model = Module()\n",
    "optimizer = torch.optim.SGD(model.parameters(), lr=lr, momentum=0.9)  \n",
    "criterion = nn.CrossEntropyLoss()"
   ]
  },
  {
   "cell_type": "code",
   "execution_count": 67,
   "metadata": {},
   "outputs": [],
   "source": [
    "log = []\n",
    "features = Variable(torch.from_numpy(train_data).type(torch.FloatTensor))\n",
    "target = Variable(torch.from_numpy(train_label).type(torch.LongTensor))"
   ]
  },
  {
   "cell_type": "code",
   "execution_count": 68,
   "metadata": {},
   "outputs": [
    {
     "name": "stderr",
     "output_type": "stream",
     "text": [
      "/home/mishuhashi/miniconda2/envs/env3.6/lib/python3.6/site-packages/sklearn/metrics/classification.py:1135: UndefinedMetricWarning: Precision and F-score are ill-defined and being set to 0.0 in labels with no predicted samples.\n",
      "  'precision', 'predicted', average, warn_for)\n",
      "/home/mishuhashi/miniconda2/envs/env3.6/lib/python3.6/site-packages/ipykernel_launcher.py:11: UserWarning: invalid index of a 0-dim tensor. This will be an error in PyTorch 0.5. Use tensor.item() to convert a 0-dim tensor to a Python number\n",
      "  # This is added back by InteractiveShellApp.init_path()\n"
     ]
    },
    {
     "name": "stdout",
     "output_type": "stream",
     "text": [
      "Epoch 10: 2.251239\n",
      "Epoch 20: 2.205211\n",
      "Epoch 30: 2.163429\n",
      "Epoch 40: 2.119987\n",
      "Epoch 50: 2.080851\n",
      "Epoch 60: 2.045194\n",
      "Epoch 70: 2.012710\n",
      "Epoch 80: 1.984631\n",
      "Epoch 90: 1.958059\n",
      "Epoch 100: 1.941157\n",
      "Epoch 110: 1.917127\n",
      "Epoch 120: 1.895405\n",
      "Epoch 130: 1.873988\n",
      "Epoch 140: 1.899629\n",
      "Epoch 150: 1.863364\n",
      "Epoch 160: 1.864782\n",
      "Epoch 170: 1.811084\n",
      "Epoch 180: 1.799587\n",
      "Epoch 190: 1.782851\n",
      "Epoch 200: 1.773024\n",
      "DONE\n"
     ]
    }
   ],
   "source": [
    "for e in range(epoch):\n",
    "    y_hat = model(features)\n",
    "    loss = criterion(y_hat, target)\n",
    "    optimizer.zero_grad()\n",
    "    loss.backward()\n",
    "    optimizer.step()\n",
    "    _, y_pred = torch.max(y_hat, 1)\n",
    "    y_pred = y_pred.data.numpy()       \n",
    "    acc = accuracy_score(train_label, y_pred)\n",
    "    p,r,f,_ = precision_recall_fscore_support(train_label, y_pred)\n",
    "    log.append((e, loss.data[0], f[0],f[1]))\n",
    "    if e % 10 == 9:\n",
    "        print('Epoch %d: %f'%(e + 1, loss))\n",
    "print('DONE')"
   ]
  },
  {
   "cell_type": "code",
   "execution_count": 69,
   "metadata": {},
   "outputs": [
    {
     "data": {
      "text/plain": [
       "Module(\n",
       "  (l1): Linear(in_features=3072, out_features=200, bias=True)\n",
       "  (l2): Linear(in_features=200, out_features=100, bias=True)\n",
       "  (sigmoid): Sigmoid()\n",
       "  (l3): Linear(in_features=100, out_features=10, bias=True)\n",
       ")"
      ]
     },
     "execution_count": 69,
     "metadata": {},
     "output_type": "execute_result"
    }
   ],
   "source": [
    "model.eval()"
   ]
  },
  {
   "cell_type": "code",
   "execution_count": 70,
   "metadata": {},
   "outputs": [],
   "source": [
    "output = model(torch.from_numpy(test_data).type(torch.FloatTensor))"
   ]
  },
  {
   "cell_type": "code",
   "execution_count": 71,
   "metadata": {},
   "outputs": [],
   "source": [
    "value, index = output.max(1)"
   ]
  },
  {
   "cell_type": "code",
   "execution_count": 72,
   "metadata": {},
   "outputs": [],
   "source": [
    "labels = index.data.numpy()"
   ]
  },
  {
   "cell_type": "code",
   "execution_count": 73,
   "metadata": {},
   "outputs": [],
   "source": [
    "acc = accuracy_score(test_label,labels)"
   ]
  },
  {
   "cell_type": "code",
   "execution_count": 74,
   "metadata": {},
   "outputs": [
    {
     "data": {
      "text/plain": [
       "0.3983"
      ]
     },
     "execution_count": 74,
     "metadata": {},
     "output_type": "execute_result"
    }
   ],
   "source": [
    "acc"
   ]
  },
  {
   "cell_type": "code",
   "execution_count": 76,
   "metadata": {},
   "outputs": [
    {
     "data": {
      "image/png": "[encoded data removed]",
      "text/plain": [
       "<Figure size 432x288 with 1 Axes>"
      ]
     },
     "metadata": {},
     "output_type": "display_data"
    }
   ],
   "source": [
    "from matplotlib import pyplot as plt\n",
    "epochs, losses, f0, f1 = zip(*log)\n",
    "figure = plt.plot(epochs, losses, 'r-',epochs,f0,'b-',epochs,f1,'g-')\n",
    "plt.show()"
   ]
  },
  {
   "cell_type": "code",
   "execution_count": null,
   "metadata": {},
   "outputs": [],
   "source": []
  },
  {
   "cell_type": "code",
   "execution_count": null,
   "metadata": {},
   "outputs": [],
   "source": []
  },
  {
   "cell_type": "code",
   "execution_count": null,
   "metadata": {},
   "outputs": [],
   "source": []
  }
 ],
 "metadata": {
  "kernelspec": {
   "display_name": "Python 3",
   "language": "python",
   "name": "python3"
  },
  "language_info": {
   "codemirror_mode": {
    "name": "ipython",
    "version": 3
   },
   "file_extension": ".py",
   "mimetype": "text/x-python",
   "name": "python",
   "nbconvert_exporter": "python",
   "pygments_lexer": "ipython3",
   "version": "3.6.6"
  }
 },
 "nbformat": 4,
 "nbformat_minor": 2
}
